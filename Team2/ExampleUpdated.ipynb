{
 "cells": [
  {
   "cell_type": "code",
   "execution_count": null,
   "metadata": {},
   "outputs": [],
   "source": [
    "from qiskit.aqua.algorithms import VQE, NumPyEigensolver\n",
    "import matplotlib.pyplot as plt\n",
    "import numpy as np\n",
    "from qiskit.chemistry.components.variational_forms import UCCSD\n",
    "from qiskit.chemistry.components.initial_states import HartreeFock\n",
    "from qiskit.circuit.library import EfficientSU2\n",
    "from qiskit.aqua.components.optimizers import COBYLA, SPSA, SLSQP, GRABER\n",
    "from qiskit.aqua.operators import Z2Symmetries\n",
    "from qiskit import IBMQ, BasicAer, Aer\n",
    "from qiskit.chemistry.drivers import PyQuanteDriver, UnitsType, BaseDriver\n",
    "from qiskit.chemistry import FermionicOperator\n",
    "import time"
   ]
  },
  {
   "cell_type": "code",
   "execution_count": null,
   "metadata": {},
   "outputs": [],
   "source": [
    "def get_qubit_op(dist):\n",
    "    driver = PyQuanteDriver(atoms=\"Li .0 .0 .0; H .0 .0 \" + str(dist), units=UnitsType.ANGSTROM, \n",
    "                         charge=0)\n",
    "    molecule = driver.run()\n",
    "    freeze_list = [0]\n",
    "    remove_list = [-3, -2]\n",
    "    repulsion_energy = molecule.nuclear_repulsion_energy\n",
    "    num_particles = molecule.num_alpha + molecule.num_beta\n",
    "    num_spin_orbitals = molecule.num_orbitals * 2\n",
    "    remove_list = [x % molecule.num_orbitals for x in remove_list]\n",
    "    freeze_list = [x % molecule.num_orbitals for x in freeze_list]\n",
    "    remove_list = [x - len(freeze_list) for x in remove_list]\n",
    "    remove_list += [x + molecule.num_orbitals - len(freeze_list)  for x in remove_list]\n",
    "    freeze_list += [x + molecule.num_orbitals for x in freeze_list]\n",
    "    ferOp = FermionicOperator(h1=molecule.one_body_integrals, h2=molecule.two_body_integrals)\n",
    "    ferOp, energy_shift = ferOp.fermion_mode_freezing(freeze_list)\n",
    "    num_spin_orbitals -= len(freeze_list)\n",
    "    num_particles -= len(freeze_list)\n",
    "    ferOp = ferOp.fermion_mode_elimination(remove_list)\n",
    "    num_spin_orbitals -= len(remove_list)\n",
    "    qubitOp = ferOp.mapping(map_type='parity', threshold=0.00000001)\n",
    "    qubitOp = Z2Symmetries.two_qubit_reduction(qubitOp, num_particles) #qubit tapering\n",
    "    shift = energy_shift + repulsion_energy\n",
    "    return qubitOp, num_particles, num_spin_orbitals, shift"
   ]
  },
  {
   "cell_type": "code",
   "execution_count": null,
   "metadata": {},
   "outputs": [],
   "source": [
    "start = time.time()\n",
    "backend = BasicAer.get_backend(\"statevector_simulator\")\n",
    "distances = np.arange(0.5, 3.5, 0.1)\n",
    "exact_energies = []\n",
    "rel_exact_energies =[]\n",
    "vqe_energies = []\n",
    "rel_vqe_energies = []\n",
    "\n",
    "optimizer = GRABER() #including random parameter choise\n",
    "initial_point = None\n",
    "for dist in distances:\n",
    "    qubitOp, num_particles, num_spin_orbitals, shift = get_qubit_op(dist)\n",
    "    result = NumPyEigensolver(qubitOp).run()\n",
    "    rel_exact_energies.append(np.real(result.eigenvalues))\n",
    "    exact_energies.append(np.real(result.eigenvalues + shift))\n",
    "    initial_state = HartreeFock(\n",
    "        num_spin_orbitals,\n",
    "        num_particles,\n",
    "        qubit_mapping='parity'\n",
    "    ) \n",
    "    var_form = UCCSD(\n",
    "        num_orbitals=num_spin_orbitals,\n",
    "        num_particles=num_particles,\n",
    "        initial_state=initial_state,\n",
    "        qubit_mapping='parity'\n",
    "    )\n",
    "    vqe = VQE(qubitOp, var_form, optimizer,initial_point = initial_point)\n",
    "    vqe_result = np.real(vqe.run(backend)['eigenvalue'])\n",
    "    rel_vqe_energies.append(vqe_result)\n",
    "    vqe_energies.append(vqe_result + shift)\n",
    "    print(\"Interatomic Distance:\", np.round(dist, 2), \"VQE Result:\", vqe_result, \"Exact Energy:\", exact_energies[-1])\n",
    "    current = vqe.optimal_params\n",
    "    initial_point = current\n",
    "    \n",
    "print(\"All energies have been calculated\")\n",
    "end = time.time() -start\n",
    "print(end)"
   ]
  },
  {
   "cell_type": "code",
   "execution_count": null,
   "metadata": {},
   "outputs": [],
   "source": [
    "plt.plot(distances, [i+1.2 for i in rel_exact_energies], 'o', label=\"Exact Energy\")\n",
    "plt.plot(distances, [i+1.2 for i in rel_vqe_energies], 'x', label=\"VQE Energy\")\n",
    "plt.xlabel('Atomic distance (Angstrom)')\n",
    "plt.ylabel('Energy')\n",
    "plt.legend()\n",
    "plt.show()"
   ]
  },
  {
   "cell_type": "code",
   "execution_count": null,
   "metadata": {},
   "outputs": [],
   "source": [
    "plt.plot(distances, exact_energies)\n",
    "plt.plot(distances, vqe_energies)"
   ]
  },
  {
   "cell_type": "code",
   "execution_count": null,
   "metadata": {},
   "outputs": [],
   "source": [
    "plt.plot(distances, [abs(vqe_energies[i]-exact_energies[i]) for i in range(len(vqe_energies))], label = 'Rel Error')\n",
    "plt.legend();"
   ]
  },
  {
   "cell_type": "code",
   "execution_count": null,
   "metadata": {},
   "outputs": [],
   "source": [
    "from scipy import optimize\n",
    "\n",
    "#V (r) = De(1 − e−α(r−r0))^2\n",
    "def test_func(x, a, b, c, d):\n",
    "    return a * ((1- np.exp(-b*(x-c)))**2) + d\n",
    "\n",
    "params, params_covariance = optimize.curve_fit(test_func, distances, vqe_energies, p0=[1, -1, -1.9, -7.9])\n",
    "\n",
    "print(params)\n",
    "print(params[0], \"*((1-np.exp(-\", params[1], \" * (x-\", params[2], \")))**2) + \",params[3])\n",
    "\n",
    "fitted_energies = []\n",
    "for i in range(len(exact_energies)):\n",
    "#     print(test_func(distances[i], params[0], params[1], params[2]))\n",
    "    fitted_energies.append(test_func(distances[i], params[0], params[1], params[2], params[3]))\n",
    "    \n",
    "#plt.plot(distances, exact_energies, 'o', label=\"Exact Energy\")\n",
    "plt.plot(distances, vqe_energies, 'x', label=\"VQE Energy\")\n",
    "plt.plot(distances, fitted_energies,label='Fitted function')\n",
    "plt.plot(distances, exact_energies, '--', label = \"Exact Energies\")\n",
    "plt.xlabel('Atomic distance (Angstrom)')\n",
    "plt.ylabel('Energy (Hartree)')\n",
    "plt.legend(loc='best')\n",
    "plt.show()"
   ]
  }
 ],
 "metadata": {
  "kernelspec": {
   "display_name": "Python 3",
   "language": "python",
   "name": "python3"
  },
  "language_info": {
   "codemirror_mode": {
    "name": "ipython",
    "version": 3
   },
   "file_extension": ".py",
   "mimetype": "text/x-python",
   "name": "python",
   "nbconvert_exporter": "python",
   "pygments_lexer": "ipython3",
   "version": "3.7.7"
  }
 },
 "nbformat": 4,
 "nbformat_minor": 4
}
